{
  "nbformat": 4,
  "nbformat_minor": 0,
  "metadata": {
    "colab": {
      "provenance": [],
      "include_colab_link": true
    },
    "kernelspec": {
      "name": "python3",
      "display_name": "Python 3"
    },
    "language_info": {
      "name": "python"
    }
  },
  "cells": [
    {
      "cell_type": "markdown",
      "metadata": {
        "id": "view-in-github",
        "colab_type": "text"
      },
      "source": [
        "<a href=\"https://colab.research.google.com/github/BeatrizPCandido/preta_lab_ciclo14/blob/main/Aula_12_Autogest%C3%A3o_Banco_de_Dados_Relacionais_e_SQL.ipynb\" target=\"_parent\"><img src=\"https://colab.research.google.com/assets/colab-badge.svg\" alt=\"Open In Colab\"/></a>"
      ]
    },
    {
      "cell_type": "markdown",
      "source": [
        "# Autogestão - Banco de Dados Relacionais e SQL"
      ],
      "metadata": {
        "id": "x9zjxv6ziyeW"
      }
    },
    {
      "cell_type": "markdown",
      "source": [
        "Utilize DB-fiddle: https://www.db-fiddle.com/"
      ],
      "metadata": {
        "id": "Vu4dexgcsQAZ"
      }
    },
    {
      "cell_type": "markdown",
      "source": [
        "### 1. Criando tabelas (15 min)"
      ],
      "metadata": {
        "id": "8u062VlhdcY0"
      }
    },
    {
      "cell_type": "markdown",
      "source": [
        "a. Crie uma tabela chamada filmes com as colunas:\n",
        "\n",
        "* id (inteiro, chave primária, serial (autoincremento))\n",
        "* titulo (texto, obrigatório)\n",
        "* genero (texto, obrigatório)\n",
        "* ano_lancamento (inteiro)\n",
        "\n",
        "b. Crie uma tabela chamada avaliacoes com as colunas:\n",
        "\n",
        "* id (inteiro, chave primária, serial(autoincremento))\n",
        "* filme_id (inteiro, chave estrangeira que referencia a tabela filmes)\n",
        "* nota (inteiro, de 1 a 5)\n",
        "* comentario (texto, opcional)"
      ],
      "metadata": {
        "id": "IYCSTqqCdp_H"
      }
    },
    {
      "cell_type": "code",
      "source": [
        "# Tabela de filmes\n",
        "CREATE TABLE filmes (\n",
        "    id INT AUTO_INCREMENT PRIMARY KEY,\n",
        "    titulo VARCHAR(255) NOT NULL,\n",
        "    genero VARCHAR(100) NOT NULL,\n",
        "    ano_lancamento INT\n",
        ");\n",
        "\n",
        "# -- Tabela de avaliações\n",
        "CREATE TABLE avaliacoes (\n",
        "    id INT AUTO_INCREMENT PRIMARY KEY,\n",
        "    filme_id INT NOT NULL,\n",
        "    nota INT,\n",
        "    comentario TEXT,\n",
        "    FOREIGN KEY (filme_id) REFERENCES filmes(id)\n",
        ");"
      ],
      "metadata": {
        "id": "GgzT5Ve0McwC"
      },
      "execution_count": null,
      "outputs": []
    },
    {
      "cell_type": "markdown",
      "source": [
        "### 2. Inserindo linhas nas tabelas (15 min)"
      ],
      "metadata": {
        "id": "WgkriamjdhpA"
      }
    },
    {
      "cell_type": "markdown",
      "source": [
        "a. Insira 20 filmes diferentes na tabela, de gêneros variados (ação, comédia, drama, animação, etc.).\n",
        "\n",
        "b. Insira 40 avaliações para diferentes filmes, variando as notas (ex.: um filme com nota 5, outro com nota 3).\n",
        "\n",
        "👉 Dica: Podemos usar IA para gerar exemplos para Banco de Dados."
      ],
      "metadata": {
        "id": "xEmeDF3kdzIR"
      }
    },
    {
      "cell_type": "code",
      "source": [
        "INSERT INTO filmes (titulo, genero, ano_lancamento) VALUES\n",
        "('A Última Missão', 'Ação', 2020),\n",
        "('Risos em Família', 'Comédia', 2018),\n",
        "('Caminhos da Alma', 'Drama', 2019),\n",
        "('Mundo Encantado', 'Animação', 2021),\n",
        "('Noite Sombria', 'Suspense', 2022),\n",
        "('Amor em Paris', 'Romance', 2017),\n",
        "('O Código Secreto', 'Ação', 2023),\n",
        "('Férias Frustradas', 'Comédia', 2016),\n",
        "('Lágrimas do Passado', 'Drama', 2020),\n",
        "('Aventuras no Espaço', 'Ficção Científica', 2021),\n",
        "('O Mistério da Casa Verde', 'Suspense', 2019),\n",
        "('Corações Partidos', 'Romance', 2022),\n",
        "('Heróis do Amanhã', 'Ação', 2024),\n",
        "('O Show da Vida', 'Comédia', 2015),\n",
        "('Sombras do Silêncio', 'Drama', 2018),\n",
        "('A Ilha Perdida', 'Aventura', 2020),\n",
        "('O Reino dos Sonhos', 'Fantasia', 2021),\n",
        "('Segredos do Subsolo', 'Terror', 2023),\n",
        "('O Poder da Música', 'Musical', 2019),\n",
        "('Planeta Azul', 'Documentário', 2022);\n",
        "\n",
        "\n"
      ],
      "metadata": {
        "id": "4GlbhCPdMv_5"
      },
      "execution_count": null,
      "outputs": []
    },
    {
      "cell_type": "code",
      "source": [
        "INSERT INTO avaliacoes (filme_id, nota, comentario) VALUES\n",
        "(1, 5, 'Excelente ação e roteiro envolvente'),\n",
        "(2, 3, 'Divertido, mas previsível'),\n",
        "(3, 4, 'Drama tocante e bem dirigido'),\n",
        "(4, 5, 'Animação encantadora para todas as idades'),\n",
        "(5, 2, 'Suspense fraco e sem ritmo'),\n",
        "(6, 4, 'Romance leve e agradável'),\n",
        "(7, 5, 'Ação intensa e bem produzida'),\n",
        "(8, 3, 'Comédia mediana'),\n",
        "(9, 4, 'Drama profundo e emocionante'),\n",
        "(10, 5, 'Ficção científica criativa'),\n",
        "(11, 2, 'História confusa'),\n",
        "(12, 4, 'Romance com boas atuações'),\n",
        "(13, 5, 'Ação futurista excelente'),\n",
        "(14, 3, 'Comédia simples'),\n",
        "(15, 4, 'Drama com boas reflexões'),\n",
        "(16, 5, 'Aventura empolgante'),\n",
        "(17, 4, 'Fantasia bem construída'),\n",
        "(18, 2, 'Terror previsível'),\n",
        "(19, 5, 'Musical inspirador'),\n",
        "(20, 4, 'Documentário informativo'),\n",
        "(1, 4, 'Bom filme de ação'),\n",
        "(2, 2, 'Comédia sem graça'),\n",
        "(3, 5, 'Drama muito bem feito'),\n",
        "(4, 3, 'Animação ok'),\n",
        "(5, 1, 'Não gostei do suspense'),\n",
        "(6, 5, 'Romance envolvente'),\n",
        "(7, 4, 'Ação bem dirigida'),\n",
        "(8, 3, 'Comédia razoável'),\n",
        "(9, 5, 'Drama excelente'),\n",
        "(10, 4, 'Boa ficção'),\n",
        "(11, 2, 'Suspense fraco'),\n",
        "(12, 5, 'Romance muito bom'),\n",
        "(13, 4, 'Ação interessante'),\n",
        "(14, 3, 'Comédia leve'),\n",
        "(15, 5, 'Drama marcante'),\n",
        "(16, 4, 'Aventura divertida'),\n",
        "(17, 5, 'Fantasia criativa'),\n",
        "(18, 1, 'Terror ruim'),\n",
        "(19, 5, 'Musical emocionante'),\n",
        "(20, 4, 'Documentário bem feito');"
      ],
      "metadata": {
        "id": "_0j0tGPaMv-P"
      },
      "execution_count": null,
      "outputs": []
    },
    {
      "cell_type": "markdown",
      "source": [
        "### 3. Consultando filmes"
      ],
      "metadata": {
        "id": "fsl6u8yUd1CJ"
      }
    },
    {
      "cell_type": "markdown",
      "source": [
        "\\a. Liste todos os filmes de um único gênero.\n",
        "\n",
        "b. Depois, liste apenas os filmes lançados depois de 2010.\n",
        "\n",
        "c. Liste todos os filmes em ordem alfabética de título.\n",
        "\n",
        "d. Liste todos os filmes ordenados pelo ano de lançamento (mais recente primeiro)."
      ],
      "metadata": {
        "id": "LaFtBmkGd1FO"
      }
    },
    {
      "cell_type": "code",
      "source": [
        "#  Liste todos os filmes de um único gênero.\n",
        "SELECT * FROM filmes WHERE genero = 'Comédia';\n"
      ],
      "metadata": {
        "id": "9mFxHZw5KtK8"
      },
      "execution_count": null,
      "outputs": []
    },
    {
      "cell_type": "code",
      "source": [
        "#b. Depois, liste apenas os filmes lançados depois de 2010.\n",
        "SELECT * FROM filmes WHERE ano_lancamento > 2010;"
      ],
      "metadata": {
        "id": "Bnt1pCTkK6AF"
      },
      "execution_count": null,
      "outputs": []
    },
    {
      "cell_type": "code",
      "source": [
        "# c. Liste todos os filmes em ordem alfabética de título.\n",
        "SELECT * FROM filmes ORDER BY titulo;"
      ],
      "metadata": {
        "id": "6kadI6PeLWKQ"
      },
      "execution_count": null,
      "outputs": []
    },
    {
      "cell_type": "code",
      "source": [
        "#d. Liste todos os filmes ordenados pelo ano de lançamento (mais recente primeiro).\n",
        "SELECT * FROM filmes ORDER BY ano_lancamento DESC;"
      ],
      "metadata": {
        "id": "x9E1A8mWLtEy"
      },
      "execution_count": null,
      "outputs": []
    },
    {
      "cell_type": "markdown",
      "source": [
        "### 4. Consultando avaliações"
      ],
      "metadata": {
        "id": "ohKLse6zekl4"
      }
    },
    {
      "cell_type": "markdown",
      "source": [
        "a. Liste todas as avaliações ordenadas por nota decrescente.\n",
        "\n",
        "b. Selecione todas as avaliações com nota maior ou igual a 4.\n",
        "\n",
        "c. Selecione os comentários em que aparece as palavras 'bom' ou 'gostei'."
      ],
      "metadata": {
        "id": "F_dep9m8enam"
      }
    },
    {
      "cell_type": "code",
      "source": [
        "# a. Liste todas as avaliações ordenadas por nota decrescente.\n",
        "SELECT * FROM avaliacoes ORDER BY nota DESC;"
      ],
      "metadata": {
        "id": "GF7VNdqCMUTB"
      },
      "execution_count": null,
      "outputs": []
    },
    {
      "cell_type": "code",
      "source": [
        "# b. Selecione todas as avaliações com nota maior ou igual a 4\n",
        "SELECT * FROM avaliacoes WHERE nota >= 4;"
      ],
      "metadata": {
        "id": "I6jJQPzCNRCs"
      },
      "execution_count": null,
      "outputs": []
    },
    {
      "cell_type": "code",
      "source": [
        "# c. Selecione os comentários em que aparece as palavras 'bom' ou 'gostei'.\n",
        "SELECT * FROM avaliacoes WHERE comentario LIKE '%bom%' OR comentario LIKE '%gostei%';"
      ],
      "metadata": {
        "id": "ZCTpgxduN8XF"
      },
      "execution_count": null,
      "outputs": []
    },
    {
      "cell_type": "markdown",
      "source": [
        "### 5. Funções de agregação"
      ],
      "metadata": {
        "id": "g86lWjZWerDK"
      }
    },
    {
      "cell_type": "markdown",
      "source": [
        "a. Verifique quantos filmes existem na tabela para cada gênero.\n",
        "\n",
        "b. Calcule a média das notas por filme (agrupando pelo filme_id).\n",
        "\n",
        "c. Liste apenas os filmes com nota média maior que 4."
      ],
      "metadata": {
        "id": "DYa_sy2xerzT"
      }
    },
    {
      "cell_type": "code",
      "source": [
        "# a. Verifique quantos filmes existem na tabela para cada gênero.\n",
        "SELECT genero, COUNT(*) AS quantidade_filmes FROM filmes GROUP BY genero;"
      ],
      "metadata": {
        "id": "aitz7DqoJ-8j"
      },
      "execution_count": null,
      "outputs": []
    },
    {
      "cell_type": "code",
      "source": [
        "# c. Liste apenas os filmes com nota média maior que 4.\n",
        "SELECT f.titulo, AVG(a.nota) AS media_nota\n",
        "FROM filmes f\n",
        "JOIN avaliacoes a ON f.id = a.filme_id\n",
        "GROUP BY f.titulo\n",
        "HAVING AVG(a.nota) > 4;"
      ],
      "metadata": {
        "id": "Agpwnxi9J-2W"
      },
      "execution_count": null,
      "outputs": []
    },
    {
      "cell_type": "markdown",
      "source": [
        "### 6. Atualizando e removendo registros"
      ],
      "metadata": {
        "id": "zYkfHfr7eu5h"
      }
    },
    {
      "cell_type": "markdown",
      "source": [
        "a. Atualize a nota de uma avaliação de 3 para 4.\n",
        "\n",
        "b. Delete todas as avaliações com nota igual a 1."
      ],
      "metadata": {
        "id": "zGlNuEheex-X"
      }
    },
    {
      "cell_type": "code",
      "source": [
        "# a. Atualize a nota de uma avaliação de 3 para 4.\n",
        "UPDATE avaliacoes SET nota = 4 WHERE id = 1;"
      ],
      "metadata": {
        "id": "jDPClDZpdmvW"
      },
      "execution_count": null,
      "outputs": []
    },
    {
      "cell_type": "code",
      "source": [
        "# b. Delete todas as avaliações com nota igual a 1.\n",
        "DELETE FROM avaliacoes WHERE nota = 1;"
      ],
      "metadata": {
        "id": "54bBVbSGoIwV"
      },
      "execution_count": null,
      "outputs": []
    },
    {
      "cell_type": "markdown",
      "source": [
        "## Parte 2 - Prática em SQLite com Python"
      ],
      "metadata": {
        "id": "z7MZazsLe0r0"
      }
    },
    {
      "cell_type": "markdown",
      "source": [
        "Usando Python e o pacote sqlite3:\n",
        "\n",
        "a. Crie o banco de dados local `cinema.db` e adicione as tabelas filmes e avaliacoes com os campos definidos acima.\n",
        "\n",
        "b. Implemente as quatro operações CRUD para ambas tabelas, ou seja, insira, leia, atualize e remova registros diretamente pelo Python."
      ],
      "metadata": {
        "id": "kKDvlDhqe6Kn"
      }
    },
    {
      "cell_type": "code",
      "source": [
        "# Usando Python e o pacote sqlite3:\n",
        "#a. Crie o banco de dados local cinema.db e adicione as tabelas filmes e avaliacoes com os campos definidos acima.\n",
        "\n",
        "import sqlite3\n",
        "\n",
        "# Conectando ao banco de dados (será criado se não existir)\n",
        "conn = sqlite3.connect('cinema.db')\n",
        "cursor = conn.cursor()\n",
        "\n",
        "# Criando a tabela filmes\n",
        "cursor.execute('''\n",
        "CREATE TABLE IF NOT EXISTS filmes (\n",
        "    id INTEGER PRIMARY KEY AUTOINCREMENT,\n",
        "    titulo TEXT NOT NULL,\n",
        "    genero TEXT NOT NULL,\n",
        "    ano_lancamento INTEGER\n",
        ")\n",
        "''')\n",
        "\n",
        "# Criando a tabela avaliacoes\n",
        "cursor.execute('''\n",
        "CREATE TABLE IF NOT EXISTS avaliacoes (\n",
        "    id INTEGER PRIMARY KEY AUTOINCREMENT,\n",
        "    filme_id INTEGER NOT NULL,\n",
        "    nota INTEGER CHECK(nota BETWEEN 1 AND 5),\n",
        "    comentario TEXT,\n",
        "    FOREIGN KEY (filme_id) REFERENCES filmes(id)\n",
        ")\n",
        "''')\n",
        "\n",
        "# Salvando as alterações e fechando a conexão\n",
        "conn.commit()\n",
        "conn.close()\n",
        "\n",
        "print(\"Banco de dados e tabelas criados com sucesso!\")\n"
      ],
      "metadata": {
        "id": "0r_9rBJLepoj",
        "colab": {
          "base_uri": "https://localhost:8080/"
        },
        "outputId": "e29cc488-24d6-4f4e-d379-6c8bda4d615c"
      },
      "execution_count": 1,
      "outputs": [
        {
          "output_type": "stream",
          "name": "stdout",
          "text": [
            "Banco de dados e tabelas criados com sucesso!\n"
          ]
        }
      ]
    },
    {
      "cell_type": "code",
      "source": [
        "# b. Implemente as quatro operações CRUD para ambas tabelas, ou seja, insira, leia, atualize e remova registros diretamente pelo Python.\n",
        "\n",
        "import sqlite3\n",
        "\n",
        "# Função para conectar ao banco\n",
        "def conectar():\n",
        "    return sqlite3.connect('cinema.db')"
      ],
      "metadata": {
        "id": "gwxAOvSjq4By"
      },
      "execution_count": 2,
      "outputs": []
    },
    {
      "cell_type": "code",
      "source": [
        "def inserir_filme(titulo, genero, ano):\n",
        "    conn = conectar()\n",
        "    cursor = conn.cursor()\n",
        "    cursor.execute(\"INSERT INTO filmes (titulo, genero, ano_lancamento) VALUES (?, ?, ?)\", (titulo, genero, ano))\n",
        "    conn.commit()\n",
        "    conn.close()\n",
        "\n",
        "def inserir_avaliacao(filme_id, nota, comentario=None):\n",
        "    conn = conectar()\n",
        "    cursor = conn.cursor()\n",
        "    cursor.execute(\"INSERT INTO avaliacoes (filme_id, nota, comentario) VALUES (?, ?, ?)\", (filme_id, nota, comentario))\n",
        "    conn.commit()\n",
        "    conn.close()"
      ],
      "metadata": {
        "id": "JutsYKQaq39w"
      },
      "execution_count": 3,
      "outputs": []
    },
    {
      "cell_type": "code",
      "source": [
        "def listar_filmes():\n",
        "    conn = conectar()\n",
        "    cursor = conn.cursor()\n",
        "    cursor.execute(\"SELECT * FROM filmes\")\n",
        "    filmes = cursor.fetchall()\n",
        "    conn.close()\n",
        "    return filmes\n",
        "\n",
        "def listar_avaliacoes():\n",
        "    conn = conectar()\n",
        "    cursor = conn.cursor()\n",
        "    cursor.execute(\"SELECT * FROM avaliacoes\")\n",
        "    avaliacoes = cursor.fetchall()\n",
        "    conn.close()\n",
        "    return avaliacoes"
      ],
      "metadata": {
        "id": "h7cPa52ZrQ1r"
      },
      "execution_count": 4,
      "outputs": []
    },
    {
      "cell_type": "code",
      "source": [
        "def atualizar_filme(id, novo_titulo, novo_genero, novo_ano):\n",
        "    conn = conectar()\n",
        "    cursor = conn.cursor()\n",
        "    cursor.execute(\"UPDATE filmes SET titulo = ?, genero = ?, ano_lancamento = ? WHERE id = ?\", (novo_titulo, novo_genero, novo_ano, id))\n",
        "    conn.commit()\n",
        "    conn.close()\n",
        "\n",
        "def atualizar_avaliacao(id, nova_nota, novo_comentario):\n",
        "    conn = conectar()\n",
        "    cursor = conn.cursor()\n",
        "    cursor.execute(\"UPDATE avaliacoes SET nota = ?, comentario = ? WHERE id = ?\", (nova_nota, novo_comentario, id))\n",
        "    conn.commit()\n",
        "    conn.close()"
      ],
      "metadata": {
        "id": "ZW7VhxKFrWW3"
      },
      "execution_count": 5,
      "outputs": []
    },
    {
      "cell_type": "code",
      "source": [
        "def remover_filme(id):\n",
        "    conn = conectar()\n",
        "    cursor = conn.cursor()\n",
        "    cursor.execute(\"DELETE FROM filmes WHERE id = ?\", (id,))\n",
        "    conn.commit()\n",
        "    conn.close()\n",
        "\n",
        "def remover_avaliacao(id):\n",
        "    conn = conectar()\n",
        "    cursor = conn.cursor()\n",
        "    cursor.execute(\"DELETE FROM avaliacoes WHERE id = ?\", (id,))\n",
        "    conn.commit()\n",
        "    conn.close()"
      ],
      "metadata": {
        "id": "vaiSqKgxrZ2m"
      },
      "execution_count": 6,
      "outputs": []
    },
    {
      "cell_type": "code",
      "source": [
        "# Inserindo dados\n",
        "inserir_filme(\"O Enigma\", \"Suspense\", 2022)\n",
        "inserir_avaliacao(1, 5, \"Muito bom!\")\n",
        "\n",
        "# Listando\n",
        "print(listar_filmes())\n",
        "print(listar_avaliacoes())\n",
        "\n",
        "# Atualizando\n",
        "atualizar_filme(1, \"O Enigma Final\", \"Suspense\", 2023)\n",
        "atualizar_avaliacao(1, 4, \"Bom, mas o final foi previsível\")\n",
        "\n",
        "# Removendo\n",
        "remover_avaliacao(1)\n",
        "remover_filme(1)"
      ],
      "metadata": {
        "colab": {
          "base_uri": "https://localhost:8080/"
        },
        "id": "c3vZvo5zriwq",
        "outputId": "33c98edc-e8c6-4f5a-db67-f5b0ef006f9b"
      },
      "execution_count": 7,
      "outputs": [
        {
          "output_type": "stream",
          "name": "stdout",
          "text": [
            "[(1, 'O Enigma', 'Suspense', 2022)]\n",
            "[(1, 1, 5, 'Muito bom!')]\n"
          ]
        }
      ]
    },
    {
      "cell_type": "code",
      "source": [],
      "metadata": {
        "id": "A-W9G715rlL5"
      },
      "execution_count": null,
      "outputs": []
    }
  ]
}